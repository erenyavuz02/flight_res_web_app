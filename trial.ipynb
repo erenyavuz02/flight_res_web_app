{
 "cells": [
  {
   "cell_type": "code",
   "execution_count": null,
   "metadata": {},
   "outputs": [],
   "source": [
    "# Create a list of ten 10s\n",
    "elements = [10] * 10\n",
    "\n",
    "# Perform the operation in a for loop\n",
    "for i in range(10):\n",
    "    # Decrease the value of every element by 0.1 of its value\n",
    "    elements = [x - 0.1 * x for x in elements]\n",
    "    \n",
    "    # Decrease the elements between the index of i and 0 once more\n",
    "    for j in range(i + 1):\n",
    "        elements[j] -= 0.1 * elements[j]\n",
    "    \n",
    "    # Calculate the total of the elements and print out\n",
    "    total = sum(elements)\n",
    "    print(f\"Total after iteration {i + 1}: {total}\")\n",
    "\n",
    "# Final total after all iterations\n",
    "final_total = sum(elements)\n",
    "print(f\"Final total: {final_total}\")\n"
   ]
  }
 ],
 "metadata": {
  "language_info": {
   "name": "python"
  }
 },
 "nbformat": 4,
 "nbformat_minor": 2
}
